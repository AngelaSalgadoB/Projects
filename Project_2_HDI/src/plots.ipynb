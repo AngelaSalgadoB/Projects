{
 "cells": [
  {
   "cell_type": "code",
   "execution_count": 1,
   "metadata": {},
   "outputs": [],
   "source": [
    "from sql_functions import get_connection\n",
    "import pandas as pd\n",
    "import matplotlib.pyplot as plt\n",
    "import numpy as np\n",
    "import queries as hdi_queries\n",
    "import dataframe_image as dfi"
   ]
  },
  {
   "cell_type": "code",
   "execution_count": 2,
   "metadata": {},
   "outputs": [],
   "source": [
    "con = get_connection()"
   ]
  },
  {
   "cell_type": "code",
   "execution_count": 3,
   "metadata": {},
   "outputs": [
    {
     "data": {
      "image/png": "[encoded data removed]",
      "text/plain": [
       "<Figure size 432x288 with 1 Axes>"
      ]
     },
     "metadata": {
      "needs_background": "light"
     },
     "output_type": "display_data"
    }
   ],
   "source": [
    "result_set= pd.read_sql_query(sql=hdi_queries.ranking_per_cdei_query,con=con)\n",
    "\n",
    "x_list = result_set[['revised_ranking']].values\n",
    "y_list = result_set[['carbon_dioxide_emission']].values\n",
    "\n",
    "\n",
    "plt.scatter(x_list, y_list)\n",
    "plt.title(\"Carbon Dioxide Emission\")\n",
    "plt.xlabel(\"country ranking revised\")\n",
    "plt.ylabel(\"emission\")\n",
    "plt.show()"
   ]
  },
  {
   "cell_type": "code",
   "execution_count": 4,
   "metadata": {},
   "outputs": [
    {
     "data": {
      "image/png": "[encoded data removed]",
      "text/plain": [
       "<Figure size 432x288 with 1 Axes>"
      ]
     },
     "metadata": {
      "needs_background": "light"
     },
     "output_type": "display_data"
    }
   ],
   "source": [
    "result_set= pd.read_sql_query(sql=hdi_queries.ranking_per_cdei_query,con=con)\n",
    "\n",
    "x_list = result_set[['revised_ranking']].values\n",
    "y_list = result_set[['carbon_dioxide_emission']].values\n",
    "\n",
    "\n",
    "plt.scatter(x_list, y_list)\n",
    "plt.title(\"Carbon Dioxide Emission\")\n",
    "plt.xlabel(\"country ranking revised\")\n",
    "plt.ylabel(\"emission\")\n",
    "plt.show()"
   ]
  },
  {
   "cell_type": "code",
   "execution_count": 5,
   "metadata": {},
   "outputs": [
    {
     "data": {
      "text/html": [
       "<div>\n",
       "<style scoped>\n",
       "    .dataframe tbody tr th:only-of-type {\n",
       "        vertical-align: middle;\n",
       "    }\n",
       "\n",
       "    .dataframe tbody tr th {\n",
       "        vertical-align: top;\n",
       "    }\n",
       "\n",
       "    .dataframe thead th {\n",
       "        text-align: right;\n",
       "    }\n",
       "</style>\n",
       "<table border=\"1\" class=\"dataframe\">\n",
       "  <thead>\n",
       "    <tr style=\"text-align: right;\">\n",
       "      <th></th>\n",
       "      <th>entity_name</th>\n",
       "      <th>onu_sustainable_development_index</th>\n",
       "      <th>revised_sustainable_development_index</th>\n",
       "    </tr>\n",
       "  </thead>\n",
       "  <tbody>\n",
       "    <tr>\n",
       "      <th>0</th>\n",
       "      <td>United Kingdom</td>\n",
       "      <td>0.82</td>\n",
       "      <td>0.71</td>\n",
       "    </tr>\n",
       "    <tr>\n",
       "      <th>1</th>\n",
       "      <td>Greece</td>\n",
       "      <td>0.82</td>\n",
       "      <td>0.71</td>\n",
       "    </tr>\n",
       "    <tr>\n",
       "      <th>2</th>\n",
       "      <td>Spain</td>\n",
       "      <td>0.82</td>\n",
       "      <td>0.73</td>\n",
       "    </tr>\n",
       "    <tr>\n",
       "      <th>3</th>\n",
       "      <td>Italy</td>\n",
       "      <td>0.82</td>\n",
       "      <td>0.73</td>\n",
       "    </tr>\n",
       "    <tr>\n",
       "      <th>4</th>\n",
       "      <td>Sweden</td>\n",
       "      <td>0.81</td>\n",
       "      <td>0.66</td>\n",
       "    </tr>\n",
       "    <tr>\n",
       "      <th>...</th>\n",
       "      <td>...</td>\n",
       "      <td>...</td>\n",
       "      <td>...</td>\n",
       "    </tr>\n",
       "    <tr>\n",
       "      <th>147</th>\n",
       "      <td>Central African Republic</td>\n",
       "      <td>0.4</td>\n",
       "      <td>0.39</td>\n",
       "    </tr>\n",
       "    <tr>\n",
       "      <th>148</th>\n",
       "      <td>Niger</td>\n",
       "      <td>0.39</td>\n",
       "      <td>0.38</td>\n",
       "    </tr>\n",
       "    <tr>\n",
       "      <th>149</th>\n",
       "      <td>Chad</td>\n",
       "      <td>0.37</td>\n",
       "      <td>0.36</td>\n",
       "    </tr>\n",
       "    <tr>\n",
       "      <th>150</th>\n",
       "      <td>South Sudan</td>\n",
       "      <td>0.37</td>\n",
       "      <td>0.36</td>\n",
       "    </tr>\n",
       "    <tr>\n",
       "      <th>151</th>\n",
       "      <td>Brunei Darussalam</td>\n",
       "      <td>0.36</td>\n",
       "      <td>-0.13</td>\n",
       "    </tr>\n",
       "  </tbody>\n",
       "</table>\n",
       "<p>152 rows × 3 columns</p>\n",
       "</div>"
      ],
      "text/plain": [
       "                  entity_name onu_sustainable_development_index  \\\n",
       "0              United Kingdom                              0.82   \n",
       "1                      Greece                              0.82   \n",
       "2                       Spain                              0.82   \n",
       "3                       Italy                              0.82   \n",
       "4                      Sweden                              0.81   \n",
       "..                        ...                               ...   \n",
       "147  Central African Republic                               0.4   \n",
       "148                     Niger                              0.39   \n",
       "149                      Chad                              0.37   \n",
       "150               South Sudan                              0.37   \n",
       "151         Brunei Darussalam                              0.36   \n",
       "\n",
       "     revised_sustainable_development_index  \n",
       "0                                     0.71  \n",
       "1                                     0.71  \n",
       "2                                     0.73  \n",
       "3                                     0.73  \n",
       "4                                     0.66  \n",
       "..                                     ...  \n",
       "147                                   0.39  \n",
       "148                                   0.38  \n",
       "149                                   0.36  \n",
       "150                                   0.36  \n",
       "151                                  -0.13  \n",
       "\n",
       "[152 rows x 3 columns]"
      ]
     },
     "metadata": {},
     "output_type": "display_data"
    }
   ],
   "source": [
    "result_set = pd.read_sql_query(sql=hdi_queries.compare_sdi_query, con=con)\n",
    "\n",
    "\n",
    "# Default value of display.max_rows is 10 so at max\n",
    "# 10 rows will be printed. Set it None to display\n",
    "# all rows in the dataframe\n",
    "pd.set_option('display.max_rows', 40)\n",
    "\n",
    "display(result_set)"
   ]
  },
  {
   "cell_type": "code",
   "execution_count": 6,
   "metadata": {},
   "outputs": [
    {
     "name": "stderr",
     "output_type": "stream",
     "text": [
      "[1023/161130.520543:INFO:headless_shell.cc(660)] Written to file /var/folders/pw/szr0m5sn17vgnpycyzj91y5r0000gn/T/tmp4uj812z9/temp.png.\n",
      "[1023/161134.200491:INFO:headless_shell.cc(660)] Written to file /var/folders/pw/szr0m5sn17vgnpycyzj91y5r0000gn/T/tmpjiv1xvqi/temp.png.\n",
      "[1023/161138.468657:INFO:headless_shell.cc(660)] Written to file /var/folders/pw/szr0m5sn17vgnpycyzj91y5r0000gn/T/tmpxbi8cfsu/temp.png.\n",
      "[1023/161143.088156:INFO:headless_shell.cc(660)] Written to file /var/folders/pw/szr0m5sn17vgnpycyzj91y5r0000gn/T/tmpu94jxzzj/temp.png.\n",
      "[1023/161148.007764:INFO:headless_shell.cc(660)] Written to file /var/folders/pw/szr0m5sn17vgnpycyzj91y5r0000gn/T/tmpfw5d3i89/temp.png.\n",
      "[1023/161153.551126:INFO:headless_shell.cc(660)] Written to file /var/folders/pw/szr0m5sn17vgnpycyzj91y5r0000gn/T/tmpqmaur3kw/temp.png.\n"
     ]
    }
   ],
   "source": [
    "\n",
    "dfi.export(result_set, 'compare_sdi.png',max_rows=-1)"
   ]
  },
  {
   "cell_type": "code",
   "execution_count": 17,
   "metadata": {},
   "outputs": [
    {
     "data": {
      "text/plain": [
       "<AxesSubplot:>"
      ]
     },
     "execution_count": 17,
     "metadata": {},
     "output_type": "execute_result"
    },
    {
     "data": {
      "image/png": "[encoded data removed]",
      "text/plain": [
       "<Figure size 432x288 with 1 Axes>"
      ]
     },
     "metadata": {
      "needs_background": "light"
     },
     "output_type": "display_data"
    }
   ],
   "source": [
    "x_list = result_set[['onu_sustainable_development_index']].values\n",
    "y_list = result_set[['onu_sustainable_development_index']].values\n",
    "z_list = result_set[['revised_sustainable_development_index']].values\n",
    "\n",
    "x = 'onu_sustainable_development_index'\n",
    "y = ['onu_sustainable_development_index','revised_sustainable_development_index']\n",
    "result_set.plot.bar( y=y, rot=0)\n",
    "\n",
    "# plt.bar(x_list , y_list, 1, label = 'onu_sustainable_development_index')\n",
    "# # plt.bar(x_list , z_list, 1, label = 'revised_sustainable_development_index')\n",
    "  \n",
    "# # plt.xticks(X_axis, X)\n",
    "# plt.xlabel(\"rankings\")\n",
    "# plt.ylabel(\"sdi\")\n",
    "# plt.title(\"Sdi comparison\")\n",
    "# plt.legend()\n",
    "# plt.show()\n",
    "\n",
    "# type(x_list)\n",
    "\n"
   ]
  }
 ],
 "metadata": {
  "kernelspec": {
   "display_name": "Python 3.9.7 ('base')",
   "language": "python",
   "name": "python3"
  },
  "language_info": {
   "codemirror_mode": {
    "name": "ipython",
    "version": 3
   },
   "file_extension": ".py",
   "mimetype": "text/x-python",
   "name": "python",
   "nbconvert_exporter": "python",
   "pygments_lexer": "ipython3",
   "version": "3.9.7"
  },
  "orig_nbformat": 4,
  "vscode": {
   "interpreter": {
    "hash": "c2cbc3b52abc8e06b49e1ca36d2c5594418131a07976fda795c55fb6bf71fd75"
   }
  }
 },
 "nbformat": 4,
 "nbformat_minor": 2
}

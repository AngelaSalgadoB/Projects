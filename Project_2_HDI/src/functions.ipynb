{
 "cells": [
  {
   "cell_type": "markdown",
   "metadata": {},
   "source": [
    "threshold_max_GNI: established by ONU= 75000\n",
    "\n",
    "observed_value_GNI : gni per capital  by country\n",
    "\n",
    "II: Income index\n",
    "\n",
    "II= (ln(observed_value_GNI) - ln(100))  /  (ln(threshold_max_GNI) - ln(100))"
   ]
  },
  {
   "cell_type": "markdown",
   "metadata": {},
   "source": [
    "Factor_planetary_preassures= (CDEI+MFI)/2"
   ]
  },
  {
   "cell_type": "markdown",
   "metadata": {},
   "source": [
    "threshold_max_MF: material footprint maximum threshold established by ONU 107,42\n",
    "threshold_min_MF: material footprint minimun threshold established by ONU 0\n",
    "\n",
    "observed_value_MF= material footprint per capital in 2019 by country\n",
    "\n",
    "\n",
    "mfi= (threshold_max_MF - observed_value_MF) / (threshold_max_MFI - threshold_min_MF)\n"
   ]
  },
  {
   "cell_type": "markdown",
   "metadata": {},
   "source": [
    "threshold_max_CDE: Carbon dioxide emissions maximum threshold established by ONU 68,72\n",
    "threshold_min_CDE: Carbon dioxide emissions minimun threshold established by ONU 0\n",
    "\n",
    "Observed_value_CDE= Carbon dioxide emissions  per capital in 2019 by contry\n",
    "\n",
    "\n",
    "CDEI= (threshold_max_CDE - Observed_value_CDE) / (threshold_max_CDE - threshold_min_CDE)"
   ]
  },
  {
   "cell_type": "markdown",
   "metadata": {},
   "source": [
    "\n",
    "education_index_EI= ((mean_years_of_schooling/15)+(expected_years_of_schooling/18)) /2 "
   ]
  },
  {
   "cell_type": "markdown",
   "metadata": {},
   "source": [
    "LEI is equal to 1 when life expectancy at birth is 85 years, and 0 when life expectancy at birth is 20 years.\n",
    "\n",
    "\n",
    "Life Expectancy Index_LEI= (observed_life expectancy-20)/85-20\n",
    "\n"
   ]
  },
  {
   "cell_type": "markdown",
   "metadata": {},
   "source": [
    "the 2010 Human Development Report calculated the HDI combining three dimensions:[7][8]\n",
    "\n",
    "A long and healthy life: Life expectancy at birth\n",
    "Education: Mean years of schooling and expected years of schooling\n",
    "A decent standard of living: GNI per capita (PPP international dollars)\n",
    "\n",
    "human_development_index_ HDI=sqrt3(LEI*EI*II)"
   ]
  },
  {
   "cell_type": "code",
   "execution_count": 1,
   "metadata": {},
   "outputs": [
    {
     "data": {
      "text/plain": [
       "0.9846153846153847"
      ]
     },
     "execution_count": 1,
     "metadata": {},
     "output_type": "execute_result"
    }
   ],
   "source": [
    "def compute_life_expectancy_index(observed_life_expectancy):\n",
    "    result = (observed_life_expectancy - 20)/(85-20)\n",
    "    return result\n",
    "\n",
    "compute_life_expectancy_index(84)\n"
   ]
  },
  {
   "cell_type": "code",
   "execution_count": 2,
   "metadata": {},
   "outputs": [
    {
     "data": {
      "text/plain": [
       "0.9216666666666666"
      ]
     },
     "execution_count": 2,
     "metadata": {},
     "output_type": "execute_result"
    }
   ],
   "source": [
    "def compute_education_index(mean_years_of_schooling,expected_years_of_schooling ):\n",
    "    result = ((mean_years_of_schooling/15)+(expected_years_of_schooling/18)) /2 \n",
    "    return result\n",
    "\n",
    "compute_education_index(13.9 , 16.5)"
   ]
  },
  {
   "cell_type": "code",
   "execution_count": 3,
   "metadata": {},
   "outputs": [
    {
     "data": {
      "text/plain": [
       "0.9828104628258985"
      ]
     },
     "execution_count": 3,
     "metadata": {},
     "output_type": "execute_result"
    }
   ],
   "source": [
    "import numpy as np\n",
    "\n",
    "\n",
    "def compute_income_index(observed_value_GNI, threshold_max_GNI):\n",
    "    result = (np.log(observed_value_GNI) - np.log(100)) / \\\n",
    "        (np.log(threshold_max_GNI) - np.log(100))\n",
    "    return result\n",
    "\n",
    "compute_income_index(66933,75000)\n"
   ]
  },
  {
   "cell_type": "code",
   "execution_count": 4,
   "metadata": {},
   "outputs": [
    {
     "data": {
      "text/plain": [
       "0.71048221932601"
      ]
     },
     "execution_count": 4,
     "metadata": {},
     "output_type": "execute_result"
    }
   ],
   "source": [
    "def compute_material_footprint_index(observed_value_MF, threshold_max_MF, threshold_min_MF):\n",
    "    result = (threshold_max_MF-observed_value_MF) / \\\n",
    "        (threshold_max_MF - threshold_min_MF)\n",
    "    return result\n",
    "\n",
    "compute_material_footprint_index(31.1, 107.42, 0)"
   ]
  },
  {
   "cell_type": "code",
   "execution_count": 6,
   "metadata": {},
   "outputs": [
    {
     "data": {
      "text/plain": [
       "0.9461583236321304"
      ]
     },
     "execution_count": 6,
     "metadata": {},
     "output_type": "execute_result"
    }
   ],
   "source": [
    "def compute_carbon_dioxide_emissions_index(observed_value_CDE, threshold_max_CDE, threshold_min_CDE):\n",
    "    result = (threshold_max_CDE-observed_value_CDE) / \\\n",
    "        (threshold_max_CDE - threshold_min_CDE)\n",
    "    return result\n",
    "\n",
    "\n",
    "compute_carbon_dioxide_emissions_index(3.7, 68.72, 0)\n"
   ]
  },
  {
   "cell_type": "code",
   "execution_count": null,
   "metadata": {},
   "outputs": [
    {
     "data": {
      "text/plain": [
       "0.9625798284964093"
      ]
     },
     "execution_count": 61,
     "metadata": {},
     "output_type": "execute_result"
    }
   ],
   "source": [
    "def compute_human_development_index(lei,ei,ii):\n",
    "    result=((lei*ei*ii)**(1/3))\n",
    "    return result\n",
    "\n",
    "lei=compute_life_expectancy_index(84)\n",
    "ei=compute_education_index(13.9 , 16.5)\n",
    "ii=compute_income_index(66933,75000)\n",
    "\n",
    "compute_human_development_index(lei, ei, ii)\n",
    "\n"
   ]
  },
  {
   "cell_type": "code",
   "execution_count": null,
   "metadata": {},
   "outputs": [
    {
     "data": {
      "text/plain": [
       "0.8283202714790702"
      ]
     },
     "execution_count": 62,
     "metadata": {},
     "output_type": "execute_result"
    }
   ],
   "source": [
    "def compute_factor_planetary_preassures(cdei, mfi):\n",
    "    result = (cdei + mfi)/2\n",
    "    return result\n",
    "\n",
    "\n",
    "mfi = compute_material_footprint_index(31.1, 107.42, 0)\n",
    "cdei = compute_carbon_dioxide_emissions_index(3.7, 68.72, 0)\n",
    "\n",
    "compute_factor_planetary_preassures(cdei, mfi)\n"
   ]
  },
  {
   "cell_type": "code",
   "execution_count": null,
   "metadata": {},
   "outputs": [
    {
     "data": {
      "text/plain": [
       "0.7973243848604226"
      ]
     },
     "execution_count": 65,
     "metadata": {},
     "output_type": "execute_result"
    }
   ],
   "source": [
    "def compute_sustainable_development(hdi,fpp):\n",
    "    result= (hdi*fpp)\n",
    "    return result\n",
    "\n",
    "hdi=compute_human_development_index(lei, ei, ii)\n",
    "fpp=compute_factor_planetary_preassures(cdei, mfi)\n",
    "\n",
    "compute_sustainable_development(hdi,fpp)\n",
    "\n"
   ]
  }
 ],
 "metadata": {
  "kernelspec": {
   "display_name": "Python 3.9.7 ('base')",
   "language": "python",
   "name": "python3"
  },
  "language_info": {
   "codemirror_mode": {
    "name": "ipython",
    "version": 3
   },
   "file_extension": ".py",
   "mimetype": "text/x-python",
   "name": "python",
   "nbconvert_exporter": "python",
   "pygments_lexer": "ipython3",
   "version": "3.9.7"
  },
  "orig_nbformat": 4,
  "vscode": {
   "interpreter": {
    "hash": "c2cbc3b52abc8e06b49e1ca36d2c5594418131a07976fda795c55fb6bf71fd75"
   }
  }
 },
 "nbformat": 4,
 "nbformat_minor": 2
}

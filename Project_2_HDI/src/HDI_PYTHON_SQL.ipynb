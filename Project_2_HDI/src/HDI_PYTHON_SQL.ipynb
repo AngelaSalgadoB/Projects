{
 "cells": [
  {
   "cell_type": "code",
   "execution_count": 2,
   "metadata": {},
   "outputs": [],
   "source": [
    "import pandas as pd\n",
    "import matplotlib.pyplot as plt\n",
    "import numpy as np\n",
    "import mysql.connector \n",
    "from mysql.connector import Error"
   ]
  },
  {
   "cell_type": "code",
   "execution_count": 3,
   "metadata": {},
   "outputs": [
    {
     "name": "stdout",
     "output_type": "stream",
     "text": [
      "MySQL Database connection successful\n"
     ]
    }
   ],
   "source": [
    "\n",
    "\n",
    "def create_server_connection(host_name, user_name, user_password,database):\n",
    "    connection = None\n",
    "    try:\n",
    "        connection = mysql.connector.connect(\n",
    "            host=host_name,\n",
    "            user=user_name,\n",
    "            passwd=user_password,\n",
    "            database=database\n",
    "        )\n",
    "        print(\"MySQL Database connection successful\")\n",
    "    except Error as err:\n",
    "        print(f\"Error: '{err}'\")\n",
    "\n",
    "    return connection\n",
    "\n",
    "\n",
    "# Function to exec query\n",
    "def execute_query(connection, query):\n",
    "    cursor = connection.cursor(buffered=True)\n",
    "    try:\n",
    "        cursor.execute(query)\n",
    "        connection.commit()\n",
    "        print(\"Query successful\")\n",
    "    except Error as err:\n",
    "        print(f\"Error: '{err}'\")\n",
    "\n",
    "\n",
    "# Test Connection\n",
    "host_name='localhost'\n",
    "user_name='hdi'\n",
    "user_password='hdi'\n",
    "database='sustainable_development'\n",
    "connection = create_server_connection(host_name=host_name,user_name=user_name,user_password=user_password,database=database)\n",
    "\n"
   ]
  },
  {
   "cell_type": "code",
   "execution_count": 4,
   "metadata": {},
   "outputs": [],
   "source": [
    "query ='select * from inputs;'\n",
    "result= pd.read_sql_query(sql=query,con=connection)"
   ]
  },
  {
   "cell_type": "code",
   "execution_count": 5,
   "metadata": {},
   "outputs": [
    {
     "ename": "TypeError",
     "evalue": "create_server_connection() missing 4 required positional arguments: 'host_name', 'user_name', 'user_password', and 'database'",
     "output_type": "error",
     "traceback": [
      "\u001b[0;31m---------------------------------------------------------------------------\u001b[0m",
      "\u001b[0;31mTypeError\u001b[0m                                 Traceback (most recent call last)",
      "\u001b[0;32m/var/folders/pw/szr0m5sn17vgnpycyzj91y5r0000gn/T/ipykernel_1366/1353303454.py\u001b[0m in \u001b[0;36m<module>\u001b[0;34m\u001b[0m\n\u001b[1;32m      4\u001b[0m \u001b[0;32mimport\u001b[0m \u001b[0mqueries\u001b[0m \u001b[0;32mas\u001b[0m \u001b[0mhdi_queries\u001b[0m\u001b[0;34m\u001b[0m\u001b[0;34m\u001b[0m\u001b[0m\n\u001b[1;32m      5\u001b[0m \u001b[0msql\u001b[0m\u001b[0;34m=\u001b[0m\u001b[0;34m'select onu, `Carbon dioxide emissions per capita (production)_(tonnes)_2020` as cde from hdi_revised order by hdi_rank'\u001b[0m\u001b[0;34m\u001b[0m\u001b[0;34m\u001b[0m\u001b[0m\n\u001b[0;32m----> 6\u001b[0;31m \u001b[0mconnection\u001b[0m \u001b[0;34m=\u001b[0m \u001b[0mcreate_server_connection\u001b[0m\u001b[0;34m(\u001b[0m\u001b[0;34m)\u001b[0m\u001b[0;34m\u001b[0m\u001b[0;34m\u001b[0m\u001b[0m\n\u001b[0m\u001b[1;32m      7\u001b[0m \u001b[0mresult_set\u001b[0m\u001b[0;34m=\u001b[0m \u001b[0mpd\u001b[0m\u001b[0;34m.\u001b[0m\u001b[0mread_sql_query\u001b[0m\u001b[0;34m(\u001b[0m\u001b[0msql\u001b[0m\u001b[0;34m=\u001b[0m\u001b[0mhdi_queries\u001b[0m\u001b[0;34m.\u001b[0m\u001b[0mranking_per_cdei_query\u001b[0m\u001b[0;34m,\u001b[0m\u001b[0mcon\u001b[0m\u001b[0;34m=\u001b[0m\u001b[0mconnection\u001b[0m\u001b[0;34m)\u001b[0m\u001b[0;34m\u001b[0m\u001b[0;34m\u001b[0m\u001b[0m\n\u001b[1;32m      8\u001b[0m \u001b[0;34m\u001b[0m\u001b[0m\n",
      "\u001b[0;31mTypeError\u001b[0m: create_server_connection() missing 4 required positional arguments: 'host_name', 'user_name', 'user_password', and 'database'"
     ]
    }
   ],
   "source": [
    "# Carbon Dioxide Emission per Capital Distribution \n",
    "# sql = 'select Country as country,`Carbon dioxide emissions per capita (production)_(tonnes)_2020` as cde from hdi_revised order by cde desc;'\n",
    "\n",
    "import queries as hdi_queries\n",
    "sql='select onu, `Carbon dioxide emissions per capita (production)_(tonnes)_2020` as cde from hdi_revised order by hdi_rank'\n",
    "connection = create_server_connection()\n",
    "result_set= pd.read_sql_query(sql=hdi_queries.ranking_per_cdei_query,con=connection)\n",
    "\n",
    "x_list = result_set[['hdi_rank']].values\n",
    "y_list = result_set[['cde']].values\n",
    "\n",
    "\n",
    "plt.scatter(x_list, y_list)\n",
    "plt.title(\"Carbon Dioxide Emission\")\n",
    "plt.xlabel(\"country ranking\")\n",
    "plt.ylabel(\"emission\")\n",
    "plt.show()\n",
    "\n"
   ]
  },
  {
   "cell_type": "code",
   "execution_count": null,
   "metadata": {},
   "outputs": [
    {
     "data": {
      "image/png": "[encoded data removed]",
      "text/plain": [
       "<Figure size 432x288 with 1 Axes>"
      ]
     },
     "metadata": {
      "needs_background": "light"
     },
     "output_type": "display_data"
    }
   ],
   "source": [
    "# Material Footprint Distribution per Capital Distribution\n",
    "\n",
    "sql='select hdi_rank, material_footprint from hdi_revised order by hdi_rank'\n",
    "result_set= pd.read_sql_query(sql=sql,con=connection)\n",
    "\n",
    "x_list = result_set[['hdi_rank']].values\n",
    "y_list = result_set[['material_footprint']].values\n",
    "\n",
    "\n",
    "plt.scatter(x_list, y_list)\n",
    "plt.title(\"Material Footprint\")\n",
    "plt.xlabel(\"ranking\")\n",
    "plt.ylabel(\"footprint\")\n",
    "plt.show()\n",
    "\n"
   ]
  },
  {
   "cell_type": "code",
   "execution_count": null,
   "metadata": {},
   "outputs": [
    {
     "data": {
      "image/png": "[encoded data removed]",
      "text/plain": [
       "<Figure size 432x288 with 1 Axes>"
      ]
     },
     "metadata": {
      "needs_background": "light"
     },
     "output_type": "display_data"
    }
   ],
   "source": [
    "sql='select hdi_rank_revised, material_footprint from hdi_revised order by hdi_rank_revised'\n",
    "result_set= pd.read_sql_query(sql=sql,con=connection)\n",
    "\n",
    "x_list = result_set[['hdi_rank_revised']].values\n",
    "y_list = result_set[['material_footprint']].values\n",
    "\n",
    "\n",
    "plt.scatter(x_list, y_list)\n",
    "plt.title(\"Material Footprint\")\n",
    "plt.xlabel(\"ranking revised\")\n",
    "plt.ylabel(\"footprint\")\n",
    "plt.show()"
   ]
  },
  {
   "cell_type": "code",
   "execution_count": null,
   "metadata": {},
   "outputs": [
    {
     "ename": "NameError",
     "evalue": "name 'create_server_connection' is not defined",
     "output_type": "error",
     "traceback": [
      "\u001b[0;31m---------------------------------------------------------------------------\u001b[0m",
      "\u001b[0;31mNameError\u001b[0m                                 Traceback (most recent call last)",
      "\u001b[0;32m/var/folders/pw/szr0m5sn17vgnpycyzj91y5r0000gn/T/ipykernel_1366/583594003.py\u001b[0m in \u001b[0;36m<module>\u001b[0;34m\u001b[0m\n\u001b[1;32m      1\u001b[0m \u001b[0;32mimport\u001b[0m \u001b[0mqueries\u001b[0m \u001b[0;32mas\u001b[0m \u001b[0mhdi_queries\u001b[0m\u001b[0;34m\u001b[0m\u001b[0;34m\u001b[0m\u001b[0m\n\u001b[1;32m      2\u001b[0m \u001b[0;34m\u001b[0m\u001b[0m\n\u001b[0;32m----> 3\u001b[0;31m \u001b[0mconnection\u001b[0m \u001b[0;34m=\u001b[0m \u001b[0mcreate_server_connection\u001b[0m\u001b[0;34m(\u001b[0m\u001b[0;34m)\u001b[0m\u001b[0;34m\u001b[0m\u001b[0;34m\u001b[0m\u001b[0m\n\u001b[0m\u001b[1;32m      4\u001b[0m \u001b[0mresult_set\u001b[0m\u001b[0;34m=\u001b[0m \u001b[0mpd\u001b[0m\u001b[0;34m.\u001b[0m\u001b[0mread_sql_query\u001b[0m\u001b[0;34m(\u001b[0m\u001b[0msql\u001b[0m\u001b[0;34m=\u001b[0m\u001b[0mhdi_queries\u001b[0m\u001b[0;34m.\u001b[0m\u001b[0mranking_per_cdei_query\u001b[0m\u001b[0;34m,\u001b[0m\u001b[0mcon\u001b[0m\u001b[0;34m=\u001b[0m\u001b[0mconnection\u001b[0m\u001b[0;34m)\u001b[0m\u001b[0;34m\u001b[0m\u001b[0;34m\u001b[0m\u001b[0m\n\u001b[1;32m      5\u001b[0m \u001b[0;34m\u001b[0m\u001b[0m\n",
      "\u001b[0;31mNameError\u001b[0m: name 'create_server_connection' is not defined"
     ]
    }
   ],
   "source": [
    "import queries as hdi_queries\n",
    "\n",
    "connection = create_server_connection()\n",
    "result_set= pd.read_sql_query(sql=hdi_queries.ranking_per_cdei_query,con=connection)\n",
    "\n",
    "x_list = result_set[['revied_ranking']].values\n",
    "y_list = result_set[['carbon_dioxide_emission']].values\n",
    "\n",
    "\n",
    "plt.scatter(x_list, y_list)\n",
    "plt.title(\"Carbon Dioxide Emission\")\n",
    "plt.xlabel(\"country ranking\")\n",
    "plt.ylabel(\"emission\")\n",
    "plt.show()"
   ]
  }
 ],
 "metadata": {
  "kernelspec": {
   "display_name": "Python 3.9.7 ('base')",
   "language": "python",
   "name": "python3"
  },
  "language_info": {
   "codemirror_mode": {
    "name": "ipython",
    "version": 3
   },
   "file_extension": ".py",
   "mimetype": "text/x-python",
   "name": "python",
   "nbconvert_exporter": "python",
   "pygments_lexer": "ipython3",
   "version": "3.9.7"
  },
  "orig_nbformat": 4,
  "vscode": {
   "interpreter": {
    "hash": "c2cbc3b52abc8e06b49e1ca36d2c5594418131a07976fda795c55fb6bf71fd75"
   }
  }
 },
 "nbformat": 4,
 "nbformat_minor": 2
}

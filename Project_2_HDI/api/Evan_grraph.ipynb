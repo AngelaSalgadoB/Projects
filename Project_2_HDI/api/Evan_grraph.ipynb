{
 "cells": [
  {
   "cell_type": "code",
   "execution_count": 4,
   "metadata": {},
   "outputs": [
    {
     "data": {
      "text/plain": [
       "<Response [200]>"
      ]
     },
     "execution_count": 4,
     "metadata": {},
     "output_type": "execute_result"
    }
   ],
   "source": [
    "import json\n",
    "import requests\n",
    "from bs4 import BeautifulSoup\n",
    "\n",
    "response=requests.get(\"https://climate.selectra.com/en/carbon-footprint/most-polluting-countries\")\n",
    "\n",
    "response\n"
   ]
  },
  {
   "cell_type": "code",
   "execution_count": 3,
   "metadata": {},
   "outputs": [
    {
     "data": {
      "text/plain": [
       "{'Date': 'Fri, 21 Oct 2022 14:31:51 GMT', 'Content-Type': 'text/html; charset=UTF-8', 'Transfer-Encoding': 'chunked', 'Connection': 'keep-alive', 'Cache-Control': 'public, max-age=14400, s-maxage=31536000, stale-if-error=3600, stale-while-revalidate=60', 'X-Drupal-Dynamic-Cache': 'MISS', 'X-DNS-Prefetch-Control': 'on', 'Link': '<https://connect.facebook.net>; rel=\"dns-prefetch\", <https://www.google-analytics.com>; rel=\"dns-prefetch\", <https://www.facebook.com>; rel=\"dns-prefetch\", <https://www.googletagmanager.com>; rel=\"dns-prefetch\", </sites/climate.selectra.com/files/css/css_Gok3K3jI1Lf-UQlysfT0zunpjZrvDsIb2ekjx2l0a1s.css>; rel=preload; as=style, </sites/climate.selectra.com/files/css/css_JKa-67T6Q-1w0Mmu8ASAUMC9DzN6-hAOlCEhOtwJBAA.css>; rel=preload; as=style, </sites/climate.selectra.com/files/js/js_jpGTFm97O2a6WcD8w9JjvnT_5YBDO50vzMMDOA7wOuQ.js>; rel=preload; as=script, </modules/custom/selectra_callcenter/assets/js/sc-update-status.js?rk3fmq>; rel=preload; as=script, </sites/climate.selectra.com/files/js/js_s5HYzbCPWiPfWzRFS_Ojb2Nu-bfLz4nzXnVlViXS8pM.js>; rel=preload; as=script, </modules/custom/selectra_rgpd/assets/js/eu_cookie_compliance.js?v=1.19>; rel=preload; as=script, </themes/custom/agrippa/js/components/00-utilities/youtube-embed.js?rk3fmq>; rel=preload; as=script, </sites/climate.selectra.com/files/js/js_wPKyTRfBDF4s68pnGB84Uhugq-6bwH_SxIfhv_pEHbA.js>; rel=preload; as=script, </themes/custom/agrippa/js/components/05-pages/mep.js?rk3fmq>; rel=preload; as=script, </sites/climate.selectra.com/files/js/js_wcG2Gu03g19wzosjlPrFAkMnjUk7l9iuZ-VPSwm--LY.js>; rel=preload; as=script', 'X-UA-Compatible': 'IE=edge', 'Content-language': 'en', 'Permissions-Policy': 'interest-cohort=()', 'Expires': 'Sun, 19 Nov 1978 05:00:00 GMT', 'Last-Modified': 'Fri, 21 Oct 2022 08:07:21 GMT', 'Vary': 'Cookie,Accept-Encoding', 'X-Generator': 'Drupal 9 (https://www.drupal.org)', 'Content-Security-Policy': \"object-src 'self'; worker-src 'self' blob:; base-uri 'self'; frame-ancestors 'self'; report-uri https://climate.selectra.com/en/report-uri/enforce\", 'Access-Control-Allow-Origin': '*', 'X-Acquia-CDN-Hp-Off': 'on', 'Referrer-Policy': 'strict-origin-when-cross-origin', 'Strict-Transport-Security': 'max-age=31536000; includeSubDomains', 'X-Content-Type-Options': 'nosniff', 'X-Frame-Options': 'SAMEORIGIN', 'X-Xss-Protection': '1; mode=block', 'X-Drupal-Cache': 'MISS', 'X-Request-ID': 'v-63d287fe-5117-11ed-ae1b-c347189f0be1', 'X-AH-Environment': 'prod', 'Via': 'varnish', 'X-Cache': 'MISS', 'CF-Cache-Status': 'HIT', 'Server': 'cloudflare', 'CF-RAY': '75dab3000d3fd57c-CDG', 'Content-Encoding': 'gzip'}"
      ]
     },
     "execution_count": 3,
     "metadata": {},
     "output_type": "execute_result"
    }
   ],
   "source": [
    "response.headers"
   ]
  },
  {
   "cell_type": "code",
   "execution_count": 6,
   "metadata": {},
   "outputs": [],
   "source": [
    "\n",
    "html=response.text\n",
    "\n",
    "parsed_html=BeautifulSoup(html, \"html.parser\")\n",
    "\n"
   ]
  },
  {
   "cell_type": "code",
   "execution_count": 36,
   "metadata": {},
   "outputs": [
    {
     "name": "stdout",
     "output_type": "stream",
     "text": [
      "None\n"
     ]
    }
   ],
   "source": [
    "\n",
    "\n",
    "image_research = parsed_html.find('canvas', class_ ='chartjs-render-monitor')\n",
    "\n",
    "print(image_research)"
   ]
  },
  {
   "cell_type": "code",
   "execution_count": 18,
   "metadata": {},
   "outputs": [
    {
     "ename": "TypeError",
     "evalue": "DataHandler() takes no arguments",
     "output_type": "error",
     "traceback": [
      "\u001b[0;31m---------------------------------------------------------------------------\u001b[0m",
      "\u001b[0;31mTypeError\u001b[0m                                 Traceback (most recent call last)",
      "\u001b[0;32m/var/folders/pw/szr0m5sn17vgnpycyzj91y5r0000gn/T/ipykernel_7669/3520892520.py\u001b[0m in \u001b[0;36m<module>\u001b[0;34m\u001b[0m\n\u001b[1;32m      1\u001b[0m \u001b[0;32mimport\u001b[0m \u001b[0murllib\u001b[0m\u001b[0;34m.\u001b[0m\u001b[0mrequest\u001b[0m\u001b[0;34m\u001b[0m\u001b[0;34m\u001b[0m\u001b[0m\n\u001b[1;32m      2\u001b[0m \u001b[0;34m\u001b[0m\u001b[0m\n\u001b[0;32m----> 3\u001b[0;31m \u001b[0murllib\u001b[0m\u001b[0;34m.\u001b[0m\u001b[0mrequest\u001b[0m\u001b[0;34m.\u001b[0m\u001b[0mDataHandler\u001b[0m\u001b[0;34m(\u001b[0m\u001b[0;34m\"https://www.bp.com/content/dam/bp/business-sites/en/global/corporate/pdfs/energy-economics/statistical-review/bp-stats-review-2021-full-report.pdf\"\u001b[0m \u001b[0;34m,\u001b[0m \u001b[0;34m'most_pollution.pdf'\u001b[0m\u001b[0;34m)\u001b[0m\u001b[0;34m\u001b[0m\u001b[0;34m\u001b[0m\u001b[0m\n\u001b[0m",
      "\u001b[0;31mTypeError\u001b[0m: DataHandler() takes no arguments"
     ]
    }
   ],
   "source": [
    "import urllib.request\n",
    "\n",
    "urllib.request..(\"https://www.bp.com/content/dam/bp/business-sites/en/global/corporate/pdfs/energy-economics/statistical-review/bp-stats-review-2021-full-report.pdf\" , 'most_pollution.pdf')"
   ]
  }
 ],
 "metadata": {
  "kernelspec": {
   "display_name": "Python 3.9.7 ('base')",
   "language": "python",
   "name": "python3"
  },
  "language_info": {
   "codemirror_mode": {
    "name": "ipython",
    "version": 3
   },
   "file_extension": ".py",
   "mimetype": "text/x-python",
   "name": "python",
   "nbconvert_exporter": "python",
   "pygments_lexer": "ipython3",
   "version": "3.9.7"
  },
  "orig_nbformat": 4,
  "vscode": {
   "interpreter": {
    "hash": "c2cbc3b52abc8e06b49e1ca36d2c5594418131a07976fda795c55fb6bf71fd75"
   }
  }
 },
 "nbformat": 4,
 "nbformat_minor": 2
}

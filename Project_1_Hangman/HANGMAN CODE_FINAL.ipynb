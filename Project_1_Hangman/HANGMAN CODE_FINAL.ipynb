{
 "cells": [
  {
   "cell_type": "code",
   "execution_count": null,
   "id": "534d5d5e",
   "metadata": {},
   "outputs": [],
   "source": [
    "from ast import Break\n",
    "import re\n",
    "from itertools import count\n",
    "import random\n",
    "\n",
    "fruits=[\"apple\" , \"apricot\" , \"araza\" , \"avocado\" , \"banana\" , \"blackberry\", \"blueberry\", \"cherry\" , \"coconut\" , \"cranberry\" ,\"date\" , \"dragonfruit\" , \"feijoa\" , \"fig\", \"grape\", \"raisin\", \"guava\", \"kiwi\" , \"lemon\", \"lime\", \"lychee\" , \"mango\" , \"melon\", \"watermelon\", \"nectarine\" , \"orange\", \"clementine\" , \"papaya\" , \"passionfruit\", \"peach\", \"pear\", \"plum\" , \"prune\" , \"pineapple\", \"pomegranate\", \"pomelo\", \"strawberry\" ,\"tamarind\", \"yuzu\"]\n",
    "chosen_fruit=\"\"\n",
    "chosen_fruit_letters=[]\n",
    "tries=[]\n",
    "blanks=[]\n",
    "blank=\" __ \"\n",
    "\n",
    "chosen_fruit=random.choice(fruits)\n",
    "\n",
    "\n",
    "for letter in chosen_fruit:\n",
    "    chosen_fruit_letters.append(letter)\n",
    "    blanks.append(blank)\n",
    "    \n",
    "\n",
    "\n",
    "print(blanks)\n",
    "\n",
    "tries=7\n",
    "while 1<= tries  and tries<= 7 and blank in blanks:\n",
    "\n",
    "    user_letter=input(\"Welcome to Hangman, Please choose a letter : \").lower()\n",
    "    if not (re.match(\"^[a-z]*$\", user_letter) and len(user_letter) ==1):\n",
    "        print(\"Error! Only one letter a-z is allowed!\")\n",
    "        print(tries)\n",
    "    else:\n",
    "        print(user_letter)\n",
    "        for index in range(len(chosen_fruit_letters)):\n",
    "            if user_letter == chosen_fruit_letters[index]:\n",
    "                print('correct')\n",
    "                blanks[index]=user_letter\n",
    "                print(blanks)\n",
    "            \n",
    "        if not user_letter in chosen_fruit_letters:\n",
    "            tries-=1\n",
    "            print(\"This letter\" , user_letter, \"doesnt exist, you have \" , tries, \"left\")\n",
    "\n",
    "          \n",
    "\n",
    "if blanks == chosen_fruit_letters:\n",
    "    print(\"YOU WIN\")\n",
    "else:\n",
    "    print(\"YOU LOSE\")\n",
    "    print(\"The word was: \", chosen_fruit)\n"
   ]
  }
 ],
 "metadata": {
  "kernelspec": {
   "display_name": "Python 3 (ipykernel)",
   "language": "python",
   "name": "python3"
  },
  "language_info": {
   "codemirror_mode": {
    "name": "ipython",
    "version": 3
   },
   "file_extension": ".py",
   "mimetype": "text/x-python",
   "name": "python",
   "nbconvert_exporter": "python",
   "pygments_lexer": "ipython3",
   "version": "3.9.7"
  },
  "vscode": {
   "interpreter": {
    "hash": "c2cbc3b52abc8e06b49e1ca36d2c5594418131a07976fda795c55fb6bf71fd75"
   }
  }
 },
 "nbformat": 4,
 "nbformat_minor": 5
}

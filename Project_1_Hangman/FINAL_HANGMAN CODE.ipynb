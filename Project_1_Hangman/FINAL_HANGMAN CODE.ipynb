{
 "cells": [
  {
   "cell_type": "code",
   "execution_count": 14,
   "metadata": {},
   "outputs": [
    {
     "name": "stdout",
     "output_type": "stream",
     "text": [
      "number of letters 8\n",
      "[' __ ', ' __ ', ' __ ', ' __ ', ' __ ', ' __ ', ' __ ', ' __ ']\n",
      "s\n",
      "Tries left  7\n",
      "t\n",
      "['t', ' __ ', ' __ ', ' __ ', ' __ ', ' __ ', ' __ ', ' __ ']\n",
      "a\n",
      "['t', 'a', ' __ ', ' __ ', ' __ ', ' __ ', ' __ ', ' __ ']\n",
      "['t', 'a', ' __ ', 'a', ' __ ', ' __ ', ' __ ', ' __ ']\n",
      "m\n",
      "['t', 'a', 'm', 'a', ' __ ', ' __ ', ' __ ', ' __ ']\n",
      "r\n",
      "['t', 'a', 'm', 'a', 'r', ' __ ', ' __ ', ' __ ']\n",
      "i\n",
      "['t', 'a', 'm', 'a', 'r', 'i', ' __ ', ' __ ']\n",
      "n\n",
      "['t', 'a', 'm', 'a', 'r', 'i', 'n', ' __ ']\n",
      "d\n",
      "['t', 'a', 'm', 'a', 'r', 'i', 'n', 'd']\n",
      "YOU WIN\n"
     ]
    }
   ],
   "source": [
    "from ast import Break\n",
    "import re\n",
    "from itertools import count\n",
    "import random\n",
    "\n",
    "from sqlalchemy import false\n",
    "\n",
    "fruits=[\"apple\" , \"apricot\" , \"araza\" , \"avocado\" , \"banana\" , \"blackberry\", \"blueberry\", \"cherry\" , \"coconut\" , \"cranberry\" ,\"date\" , \"dragonfruit\" , \"feijoa\" , \"fig\", \"grape\", \"raisin\", \"guava\", \"kiwi\" , \"lemon\", \"lime\", \"lychee\" , \"mango\" , \"melon\", \"watermelon\", \"nectarine\" , \"orange\", \"clementine\" , \"papaya\" , \"passionfruit\", \"peach\", \"pear\", \"plum\" , \"prune\" , \"pineapple\", \"pomegranate\", \"pomelo\", \"strawberry\" ,\"tamarind\", \"yuzu\"]\n",
    "chosen_fruit=[]\n",
    "tries=[]\n",
    "blanks=[]\n",
    "\n",
    "\n",
    "\n",
    "for item in fruits:\n",
    "    chosen_fruit.append(random.choice(fruits))\n",
    "    if len(chosen_fruit)== 1:\n",
    "        break\n",
    "\n",
    "\n",
    "\n",
    "print(\"number of letters\", len(chosen_fruit[0]))\n",
    "\n",
    "\n",
    "\n",
    "for i in range (len(chosen_fruit[0])):\n",
    "    blanks.append(\" __ \")\n",
    "print(blanks)\n",
    "\n",
    "\n",
    "\n",
    "\n",
    "tries=0\n",
    "while tries < 8 and \" __ \" in blanks:\n",
    "\n",
    "    user_letter=input(\"Welcome to Hangman, Please choose a letter : \").lower()\n",
    "    if re.match(\"^[a-z]*$\", user_letter):\n",
    "        print(user_letter)\n",
    "    else:\n",
    "        print(\"Error! Only letters a-z allowed!\")\n",
    "        print(\"Error! Only ONE character allowed!\")\n",
    "       \n",
    "\n",
    "    for let,i in zip(chosen_fruit[0],range(len(chosen_fruit[0]))):    \n",
    "        if let == user_letter:\n",
    "            \n",
    "            blanks[i]=user_letter\n",
    "            print(blanks)\n",
    "    j=0\n",
    "    for let in chosen_fruit[0]:\n",
    "        if let != user_letter:\n",
    "            j=j+1\n",
    "    if j==len(chosen_fruit[0]):\n",
    "        tries=tries+1  \n",
    "        print(\"Tries left \",8-tries)    \n",
    "\n",
    "if j==8:\n",
    "    print(\"YOU LOSE\")\n",
    "    print(\"The word was: \", chosen_fruit)\n",
    "elif let == user_letter:\n",
    "    print(\"YOU WIN\")\n",
    "\n"
   ]
  }
 ],
 "metadata": {
  "kernelspec": {
   "display_name": "Python 3.9.7 ('base')",
   "language": "python",
   "name": "python3"
  },
  "language_info": {
   "codemirror_mode": {
    "name": "ipython",
    "version": 3
   },
   "file_extension": ".py",
   "mimetype": "text/x-python",
   "name": "python",
   "nbconvert_exporter": "python",
   "pygments_lexer": "ipython3",
   "version": "3.9.7"
  },
  "vscode": {
   "interpreter": {
    "hash": "c2cbc3b52abc8e06b49e1ca36d2c5594418131a07976fda795c55fb6bf71fd75"
   }
  }
 },
 "nbformat": 4,
 "nbformat_minor": 5
}
